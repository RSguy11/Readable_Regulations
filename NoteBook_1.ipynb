{
 "cells": [
  {
   "cell_type": "markdown",
   "metadata": {},
   "source": [
    "Importing all libaries nessesary"
   ]
  },
  {
   "cell_type": "code",
   "execution_count": 7,
   "metadata": {},
   "outputs": [
    {
     "name": "stdout",
     "output_type": "stream",
     "text": [
      "Requirement already satisfied: pandas in c:\\users\\naesl\\anaconda3\\lib\\site-packages (1.2.4)\n",
      "Requirement already satisfied: numpy>=1.16.5 in c:\\users\\naesl\\anaconda3\\lib\\site-packages (from pandas) (1.20.1)\n",
      "Requirement already satisfied: python-dateutil>=2.7.3 in c:\\users\\naesl\\anaconda3\\lib\\site-packages (from pandas) (2.8.1)\n",
      "Requirement already satisfied: pytz>=2017.3 in c:\\users\\naesl\\anaconda3\\lib\\site-packages (from pandas) (2021.1)\n",
      "Requirement already satisfied: six>=1.5 in c:\\users\\naesl\\anaconda3\\lib\\site-packages (from python-dateutil>=2.7.3->pandas) (1.15.0)\n",
      "Note: you may need to restart the kernel to use updated packages.\n",
      "Requirement already satisfied: matplotlib in c:\\users\\naesl\\anaconda3\\lib\\site-packages (3.3.4)\n",
      "Requirement already satisfied: cycler>=0.10 in c:\\users\\naesl\\anaconda3\\lib\\site-packages (from matplotlib) (0.10.0)\n",
      "Requirement already satisfied: pillow>=6.2.0 in c:\\users\\naesl\\anaconda3\\lib\\site-packages (from matplotlib) (8.2.0)\n",
      "Requirement already satisfied: numpy>=1.15 in c:\\users\\naesl\\anaconda3\\lib\\site-packages (from matplotlib) (1.20.1)\n",
      "Requirement already satisfied: kiwisolver>=1.0.1 in c:\\users\\naesl\\anaconda3\\lib\\site-packages (from matplotlib) (1.3.1)\n",
      "Requirement already satisfied: pyparsing!=2.0.4,!=2.1.2,!=2.1.6,>=2.0.3 in c:\\users\\naesl\\anaconda3\\lib\\site-packages (from matplotlib) (2.4.7)\n",
      "Requirement already satisfied: python-dateutil>=2.1 in c:\\users\\naesl\\anaconda3\\lib\\site-packages (from matplotlib) (2.8.1)\n",
      "Requirement already satisfied: six in c:\\users\\naesl\\anaconda3\\lib\\site-packages (from cycler>=0.10->matplotlib) (1.15.0)\n",
      "Note: you may need to restart the kernel to use updated packages.\n"
     ]
    }
   ],
   "source": [
    "%pip install pandas\n",
    "%pip install matplotlib"
   ]
  },
  {
   "cell_type": "code",
   "execution_count": 8,
   "metadata": {},
   "outputs": [],
   "source": [
    "import pandas as pd\n",
    "import json \n",
    "import matplotlib.pyplot as plt"
   ]
  },
  {
   "cell_type": "markdown",
   "metadata": {},
   "source": [
    "This goes through the JSONL file in a loop with O(n) runtime. Due to length of the file this is inefficant and another way needs to be found."
   ]
  },
  {
   "cell_type": "code",
   "execution_count": 9,
   "metadata": {},
   "outputs": [
    {
     "name": "stdout",
     "output_type": "stream",
     "text": [
      "Notebook 1 = best notebook because I said so thats why\n"
     ]
    }
   ],
   "source": [
    "# Initialize an empty list to store the JSON objects\n",
    "data = []\n",
    "\n",
    "\n",
    "# df = pd.DataFrame()\n",
    "# df= pd.read_json('ca_test_data_final_OFFICIAL.jsonl')\n",
    "\n",
    "\n",
    "# Open the file and read line by line\n",
    "with open('ca_test_data_final_OFFICIAL.jsonl', 'r') as file:\n",
    "    for line in file:\n",
    "        # Parse each line as a JSON object and append to the list\n",
    "        data.append(json.loads(line))\n",
    "\n",
    "# Convert the list of dictionaries to a DataFrame\n",
    "df = pd.DataFrame(data)\n",
    "df.head()\n",
    "print(\"Notebook 1 = best notebook because I said so thats why\")"
   ]
  },
  {
   "cell_type": "markdown",
   "metadata": {},
   "source": [
    "Much simpilar verson that does most of the same thing, but does not seperate it the same as the previous verson instead putting it into coloumbs. (This is incorect this does put the data into coloumbs)"
   ]
  },
  {
   "cell_type": "code",
   "execution_count": 10,
   "metadata": {},
   "outputs": [
    {
     "name": "stdout",
     "output_type": "stream",
     "text": [
      "The people of the State of California do enact as follows:\n",
      "\n",
      "\n",
      "SECTION 1.\n",
      "Section 75220 of the Public Resources Code is amended to read:\n",
      "75220.\n",
      "(a) The Transit and Intercity Rail Capital Program is hereby created to fund transformative capital improvements, as defined in subdivision (d), that will modernize California’s intercity, commuter, and urban rail systems and bus and ferry transit systems to achieve all of the following policy objectives:\n",
      "(1) Reduce emissions of greenhouse gases.\n",
      "(2) Expand and improve transit service to increase ridership.\n",
      "(3) Integrate the rail service of the state’s various rail operators, including integration with the high-speed rail system.\n",
      "(4) Improve transit safety.\n",
      "(b) The Transportation Agency shall evaluate applications consistent with the criteria set forth in this part and approve a multiyear program of projects for funding pursuant to Section 75224, which may be revised as necessary.\n",
      "(c) The California Transportation Commission shall allocate funding to applicants pursuant to the program of projects approved by the Transportation Agency.\n",
      "(d) “Transformative capital improvement” means a rail, bus, or ferry transit project that will significantly reduce vehicle miles traveled, congestion, and greenhouse gas emissions by creating a new transit system, increasing the capacity of an existing transit system, or otherwise significantly increasing the ridership of a transit system.\n",
      "SEC. 2.\n",
      "Section 75221 of the Public Resources Code is amended to read:\n",
      "75221.\n",
      "(a) Projects eligible for funding under the program include, but are not limited to, all of the following:\n",
      "(1) Rail capital projects, including acquisition of rail cars and locomotives, that expand, enhance, and improve existing rail systems and connectivity to existing and future transit systems, including the high-speed rail system.\n",
      "(2) Intercity, commuter, and urban rail projects that increase service levels, improve reliability, or decrease travel times, including infrastructure access payments to host railroads in lieu of capital investments.\n",
      "(3) Rail, bus, and ferry integration implementation, including integrated ticketing and scheduling systems, shared-use corridors, related planning efforts, and other service integration initiatives.\n",
      "(4) Bus rapid transit and other bus and ferry transit investments to increase ridership and reduce greenhouse gas emissions.\n",
      "(b) In order to be eligible for funding under the program, a project shall demonstrate that it will achieve a reduction in emissions of greenhouse gases. In selecting projects for funding, the Transportation Agency shall consider the extent to which a project reduces emissions of greenhouse gases.\n",
      "(c) The program shall have a programmatic goal of providing at least 25 percent of available funding to projects benefiting disadvantaged communities, consistent with the objectives of Chapter 830 of the Statutes of 2012.\n",
      "(d) In evaluating grant applications for funding, the Transportation Agency shall consider all of the following:\n",
      "(1) The cobenefits of projects that support the implementation of sustainable communities strategies through one or more of the following:\n",
      "(A) Reducing vehicle miles traveled from automobiles and the number of automobile trips through growth in transit ridership.\n",
      "(B) Promoting housing development in the vicinity of rail stations and major transit centers.\n",
      "(C) Expanding existing rail and public transit systems.\n",
      "(D) Enhancing the connectivity, integration, and coordination of the state’s various transit systems, including, but not limited to, regional and local transit systems and the high-speed rail system.\n",
      "(E) Implementing clean vehicle technology.\n",
      "(F) Promoting active transportation.\n",
      "(G) Improving public health.\n",
      "(2) The project priorities developed through the collaboration of two or more rail operators and any memoranda of understanding between state agencies and local or regional rail operators.\n",
      "(3) Geographic equity.\n",
      "(4) Consistency with an adopted sustainable communities strategy or, if a sustainable strategy is not required for a region by law, a regional plan that includes policies and programs to reduce emissions of greenhouse gases.\n",
      "(5) The extent to which a project has supplemental funding committed to it from other nonstate sources.\n",
      "(6) The extent to which the project will increase transit ridership.\n",
      "(e) Eligible applicants under the program shall be public agencies, including joint powers agencies, that operate or have planning responsibility for existing or planned regularly scheduled intercity or commuter passenger rail service, urban rail transit service, or bus or ferry transit service.\n",
      "(f) A recipient of moneys under the program may combine funding from the program with other state funding, including, but not limited to, the State Transportation Improvement Program, the Low Carbon Transit Operations Program, the State Air Resources Board clean vehicle program, and state transportation bond funds.\n",
      "SEC. 3.\n",
      "Section 75222 of the Public Resources Code is amended to read:\n",
      "75222.\n",
      "(a) Applications for grants under the program shall be submitted to the Transportation Agency for evaluation in accordance with procedures and program guidelines approved by the agency. An eligible applicant may submit an application to the agency to fund a project over multiple fiscal years. The agency may make multiyear funding commitments for projects that are proposed by an eligible applicant to be funded from the program over a period of more than one fiscal year.\n",
      "(b) The application shall define the project purpose, intended scope, proposed cost, intended funding sources, and schedule for project completion.\n",
      "(c) The application shall specify the phases of work for which an eligible applicant is seeking an allocation of moneys from the program.\n",
      "(d) The application shall identify the sources and timing of all moneys required to undertake and complete any phase of a project for which an eligible applicant is seeking an allocation of moneys from the program. The application shall also describe intended sources and timing of funding to complete any subsequent phases of the project, through construction or procurement.\n",
      "(e) The application shall include information describing the funding sources and approach to ensuring that ongoing operating and maintenance costs of the project are funded through the useful life of the project, as applicable.\n",
      "(f) Eligible applicants may submit more than one application for grants under the program pursuant to this section.\n",
      "(g) An eligible applicant may use a project study report or equivalent document to demonstrate eligibility of a project for inclusion in the multiyear program of projects pursuant to Section 75224. The project study report or equivalent document shall, at a minimum, be adequate to define and justify the project scope, cost, and schedule for the project application.\n",
      "SEC. 4.\n",
      "Section 75223 is added to the Public Resources Code, to read:\n",
      "75223.\n",
      "(a) The Transportation Agency shall conduct at least two public workshops on draft program guidelines containing selection criteria prior to approval and shall post the draft guidelines on the agency’s Internet Web site at least 30 days prior to the first public workshop. Concurrent with the posting, the agency shall transmit the draft guidelines to the fiscal committees and the appropriate policy committees of the Legislature.\n",
      "(b) The Administrative Procedure Act (Chapter 3.5 (commencing with Section 11340) of Part 1 of Division 3 of Title 2 of the Government Code) does not apply to the development and approval of procedures and program guidelines for the program pursuant to this section.\n",
      "SEC. 5.\n",
      "Section 75224 is added to the Public Resources Code, to read:\n",
      "75224.\n",
      "(a) No later than July 1, 2018, the Transportation Agency shall approve a program of projects, which shall cover a period of five fiscal years, beginning with the 2018–19 fiscal year.\n",
      "(b) The Transportation Agency shall approve each subsequent program of projects not later than April 1 of each even-numbered year. Each subsequent program shall cover a period of five fiscal years, beginning July 1 of the year of approval, and shall be a statement of intent by the Transportation Agency for the allocation and expenditure of moneys during those five fiscal years.\n",
      "(c) In developing the program of projects, and consistent with the consideration of all other criteria for individual projects, the Transportation Agency shall seek to maximize the total amount of reductions in emissions of greenhouse gases that would be achieved under the program.\n",
      "(d) For a project to be funded from the program over a period of more than one fiscal year, the Transportation Agency, at the request of an eligible applicant and in cooperation with the commission, shall enter into and execute a multiyear funding agreement with the eligible applicant for the project for an amount of program moneys and for any duration, as determined jointly by the agency and applicant.\n",
      "SEC. 6.\n",
      "Section 75225 is added to the Public Resources Code, to read:\n",
      "75225.\n",
      "(a) A lead applicant agency may apply to the commission for a letter of no prejudice for a project or for any component of a project included in the program of projects approved by the Transportation Agency. If approved by the commission, the letter of no prejudice shall allow the lead applicant agency to expend its own moneys for the project or any component of the project and to be eligible for future reimbursement from moneys available for the program from the Greenhouse Gas Reduction Fund, created pursuant to Section 16428.8 of the Government Code.\n",
      "(b) The amount expended under subdivision (a) shall be reimbursed by the state from moneys available for the program from the Greenhouse Gas Reduction Fund if all of the following conditions are met:\n",
      "(1) The project or project component for which the letter of no prejudice was requested has commenced, and the regional or local expenditures have been incurred.\n",
      "(2) The expenditures made by the lead applicant agency are eligible for reimbursement in accordance with applicable laws and procedures. If expenditures made by the lead applicant agency are determined to be ineligible, the state has no obligation to reimburse those expenditures.\n",
      "(3) The lead applicant agency complies with all legal requirements for the project, including the requirements of the California Environmental Quality Act (Division 13 (commencing with Section 21000)).\n",
      "(4) There are moneys in the Greenhouse Gas Reduction Fund designated for the program that are sufficient to make the reimbursement payment.\n",
      "(c) The lead applicant agency and the commission shall enter into an agreement governing reimbursement as described in this section. The timing and final amount of reimbursement is dependent on the terms of the agreement and the availability of moneys in the Greenhouse Gas Reduction Fund for the program.\n",
      "(d) The commission, in consultation with intercity, commuter, urban rail, and other public transit entities, may develop guidelines to implement this section.\n",
      "\n",
      "\n",
      "\n",
      "Summary\n",
      "Existing law requires all moneys, except for fines and penalties, collected by the State Air Resources Board from a market-based compliance mechanism relative to reduction of greenhouse gas emissions to be deposited in the Greenhouse Gas Reduction Fund. Existing law establishes the Transit and Intercity Rail Capital Program, which receives 10 of the annual proceeds of the Greenhouse Gas Reduction Fund as a continuous appropriation, to fund capital improvements and operational investments to modernize California’s rail systems to achieve certain policy objectives, including reducing greenhouse gas emissions, expanding and improving rail services to increase ridership, and improving rail safety. Existing law requires the Transportation Agency to evaluate applications for funding under the program and to prepare a list of projects recommended for funding, with grants to be awarded by the California Transportation Commission. This bill would modify the purpose of the program to delete references to operational investments and instead provide for the funding of transformative capital improvements, as defined, that will modernize California’s intercity, commuter, and urban rail systems and bus and ferry transit systems to achieve certain policy objectives, including reducing emissions of greenhouse gases, expanding and improving transit services to increase ridership, and improving transit safety. By expanding the purposes for which continuously appropriated moneys may be used, the bill would make an appropriation. The bill would modify the information required to be included in applications for grants under the program and would authorize an eligible applicant to submit an application to fund a project over multiple fiscal years and to submit multiple applications. The bill would require the Transportation Agency, in selecting projects for funding, to consider the extent to which a project reduces greenhouse gas emissions, would add additional factors to be considered in evaluating applications for funding, and would expand certain factors considered to include bus and ferry transit service. The bill would require the Transportation Agency to approve, by July 1, 2018, a 5-year program of projects, and would require the California Transportation Commission to allocate funding to eligible applicants pursuant to the program of projects, with subsequent programs of projects to be approved not later than April 1 of each even-numbered year thereafter. The bill would require the Transportation Agency, in cooperation with the California Transportation Commission and at the request of an eligible applicant, to enter into and execute a multiyear funding agreement for a project to be funded over more than one fiscal year, as specified, and would authorize the California Transportation Commission to approve a letter of no prejudice that would allow an applicant to expend its own moneys on a project in the approved program of projects, subject to future reimbursement from program moneys for eligible expenditures.\n"
     ]
    }
   ],
   "source": [
    "df = pd.read_json('ca_test_data_final_OFFICIAL.jsonl', lines=True)\n",
    "df.head()\n",
    "\n",
    "dataf = pd.read_json('ca_test_data_final_OFFICIAL.jsonl', lines=True)\n",
    "\n",
    "selected_columns = ['summary', 'title', 'sum_len']\n",
    "dataf_Summaries = dataf[selected_columns].copy()\n",
    "\n",
    "selected_columns[1] = 'bill_id'\n",
    "dataf = dataf.drop(columns=selected_columns)\n",
    "\n",
    "#dataf.head()\n",
    "textCell = dataf.iat[3, dataf.columns.get_loc('text')]\n",
    "summaryCell = dataf_Summaries.iat[3, dataf_Summaries.columns.get_loc('summary')]\n",
    "\n",
    "print(textCell)\n",
    "print(\"\\n\\n\\nSummary\")\n",
    "print(summaryCell)"
   ]
  },
  {
   "cell_type": "markdown",
   "metadata": {},
   "source": [
    "Histogram plot of the Sumerization length. Top is with outlires and the bottom is with one outlire removed. "
   ]
  },
  {
   "cell_type": "code",
   "execution_count": 11,
   "metadata": {},
   "outputs": [
    {
     "data": {
      "text/plain": [
       "<AxesSubplot:ylabel='Frequency'>"
      ]
     },
     "execution_count": 11,
     "metadata": {},
     "output_type": "execute_result"
    },
    {
     "data": {
      "image/png": "[encoded data removed]",
      "text/plain": [
       "<Figure size 432x288 with 1 Axes>"
      ]
     },
     "metadata": {
      "needs_background": "light"
     },
     "output_type": "display_data"
    }
   ],
   "source": [
    "df[\"sum_len\"].plot(kind = \"hist\", bins=100)\n"
   ]
  },
  {
   "cell_type": "code",
   "execution_count": 12,
   "metadata": {},
   "outputs": [
    {
     "data": {
      "text/plain": [
       "<AxesSubplot:ylabel='Frequency'>"
      ]
     },
     "execution_count": 12,
     "metadata": {},
     "output_type": "execute_result"
    },
    {
     "data": {
      "image/png": "[encoded data removed]",
      "text/plain": [
       "<Figure size 432x288 with 1 Axes>"
      ]
     },
     "metadata": {
      "needs_background": "light"
     },
     "output_type": "display_data"
    }
   ],
   "source": [
    "df.loc[df[\"sum_len\"]!=df[\"sum_len\"].max()].plot(x=\"text_len\",kind = \"hist\", bins=100)"
   ]
  }
 ],
 "metadata": {
  "kernelspec": {
   "display_name": "base",
   "language": "python",
   "name": "python3"
  },
  "language_info": {
   "codemirror_mode": {
    "name": "ipython",
    "version": 3
   },
   "file_extension": ".py",
   "mimetype": "text/x-python",
   "name": "python",
   "nbconvert_exporter": "python",
   "pygments_lexer": "ipython3",
   "version": "3.11.5"
  }
 },
 "nbformat": 4,
 "nbformat_minor": 2
}
