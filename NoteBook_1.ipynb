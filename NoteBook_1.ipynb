{
 "cells": [
  {
   "cell_type": "markdown",
   "metadata": {},
   "source": [
    "Importing all libaries nessesary"
   ]
  },
  {
   "cell_type": "code",
   "execution_count": 3,
   "metadata": {},
   "outputs": [],
   "source": [
    "import pandas as pd\n",
    "import json \n",
    "import matplotlib.pyplot as plt\n",
    "\n",
    "import nltk\n",
    "from nltk.corpus import stopwords\n",
    "\n"
   ]
  },
  {
   "cell_type": "markdown",
   "metadata": {},
   "source": [
    "This goes through the JSONL file in a loop with O(n) runtime. Due to length of the file this is inefficant and another way needs to be found."
   ]
  },
  {
   "cell_type": "code",
   "execution_count": 4,
   "metadata": {},
   "outputs": [],
   "source": [
    "# Initialize an empty list to store the JSON objects\n",
    "# data = []\n",
    "\n",
    "\n",
    "# df = pd.DataFrame()\n",
    "# df= pd.read_json('ca_test_data_final_OFFICIAL.jsonl')\n",
    "\n",
    "\n",
    "# # Open the file and read line by line\n",
    "# with open('ca_test_data_final_OFFICIAL.jsonl', 'r') as file:\n",
    "#     for line in file:\n",
    "#         # Parse each line as a JSON object and append to the list\n",
    "#         data.append(json.loads(line))\n",
    "\n",
    "# # Convert the list of dictionaries to a DataFrame\n",
    "# df = pd.DataFrame(data)\n",
    "# df.head()\n"
   ]
  },
  {
   "cell_type": "markdown",
   "metadata": {},
   "source": [
    "Much simpilar verson that does most of the same thing, but does not seperate it the same as the previous verson instead putting it into coloumbs. (This is incorect this does put the data into coloumbs)"
   ]
  },
  {
   "cell_type": "code",
   "execution_count": 5,
   "metadata": {},
   "outputs": [],
   "source": [
    "df = pd.read_json('ca_test_data_final_OFFICIAL.jsonl', lines=True)\n",
    "\n",
    "selected_columns = ['summary', 'title', 'sum_len']\n",
    "dataf_Summaries = df[selected_columns].copy()\n",
    "\n",
    "selected_columns[1] = 'bill_id'\n",
    "df = df.drop(columns=selected_columns)\n"
   ]
  },
  {
   "cell_type": "markdown",
   "metadata": {},
   "source": [
    "Removes stopwords to clean the nessary data"
   ]
  },
  {
   "cell_type": "code",
   "execution_count": 8,
   "metadata": {},
   "outputs": [
    {
     "name": "stderr",
     "output_type": "stream",
     "text": [
      "[nltk_data] Downloading package stopwords to\n",
      "[nltk_data]     C:\\Users\\olive\\AppData\\Roaming\\nltk_data...\n",
      "[nltk_data]   Package stopwords is already up-to-date!\n"
     ]
    },
    {
     "name": "stdout",
     "output_type": "stream",
     "text": [
      "The people State California enact follows: . Section 75220 Public Resources Code amended read: 75220. The Transit Intercity Rail Capital Program hereby created fund transformative capital improvements, defined subdivision , modernize California’s intercity, commuter, urban rail systems bus ferry transit systems achieve following policy objectives: Reduce emissions greenhouse gases. Expand improve transit service increase ridership. Integrate rail service state’s various rail operators, including integration high-speed rail system. Improve transit safety. The Transportation Agency shall evaluate applications consistent criteria set forth part approve multiyear program projects funding pursuant Section 75224, may revised necessary. The California Transportation Commission shall allocate funding applicants pursuant program projects approved Transportation Agency. “Transformative capital improvement” means rail, bus, ferry transit project significantly reduce vehicle miles traveled, congestion, greenhouse gas emissions creating new transit system, increasing capacity existing transit system, otherwise significantly increasing ridership transit system. SEC. 2. Section 75221 Public Resources Code amended read: 75221. Projects eligible funding program include, limited to, following: Rail capital projects, including acquisition rail cars locomotives, expand, enhance, improve existing rail systems connectivity existing future transit systems, including high-speed rail system. Intercity, commuter, urban rail projects increase service levels, improve reliability, decrease travel times, including infrastructure access payments host railroads lieu capital investments. Rail, bus, ferry integration implementation, including integrated ticketing scheduling systems, shared-use corridors, related planning efforts, service integration initiatives. Bus rapid transit bus ferry transit investments increase ridership reduce greenhouse gas emissions. In order eligible funding program, project shall demonstrate achieve reduction emissions greenhouse gases. In selecting projects funding, Transportation Agency shall consider extent project reduces emissions greenhouse gases. The program shall programmatic goal providing least 25 percent available funding projects benefiting disadvantaged communities, consistent objectives Chapter 830 Statutes 2012. In evaluating grant applications funding, Transportation Agency shall consider following: The cobenefits projects support implementation sustainable communities strategies one following: Reducing vehicle miles traveled automobiles number automobile trips growth transit ridership. Promoting housing development vicinity rail stations major transit centers. Expanding existing rail public transit systems. Enhancing connectivity, integration, coordination state’s various transit systems, including, limited to, regional local transit systems high-speed rail system. Implementing clean vehicle technology. Promoting active transportation. Improving public health. The project priorities developed collaboration two rail operators memoranda understanding state agencies local regional rail operators. Geographic equity. Consistency adopted sustainable communities strategy or, sustainable strategy required region law, regional plan includes policies programs reduce emissions greenhouse gases. The extent project supplemental funding committed nonstate sources. The extent project increase transit ridership. Eligible applicants program shall public agencies, including joint powers agencies, operate planning responsibility existing planned regularly scheduled intercity commuter passenger rail service, urban rail transit service, bus ferry transit service. A recipient moneys program may combine funding program state funding, including, limited to, State Transportation Improvement Program, Low Carbon Transit Operations Program, State Air Resources Board clean vehicle program, state transportation bond funds. SEC. 3. Section 75222 Public Resources Code amended read: 75222. Applications grants program shall submitted Transportation Agency evaluation accordance procedures program guidelines approved agency. An eligible applicant may submit application agency fund project multiple fiscal years. The agency may make multiyear funding commitments projects proposed eligible applicant funded program period one fiscal year. The application shall define project purpose, intended scope, proposed cost, intended funding sources, schedule project completion. The application shall specify phases work eligible applicant seeking allocation moneys program. The application shall identify sources timing moneys required undertake complete phase project eligible applicant seeking allocation moneys program. The application shall also describe intended sources timing funding complete subsequent phases project, construction procurement. The application shall include information describing funding sources approach ensuring ongoing operating maintenance costs project funded useful life project, applicable. Eligible applicants may submit one application grants program pursuant section. An eligible applicant may use project study report equivalent document demonstrate eligibility project inclusion multiyear program projects pursuant Section 75224. The project study report equivalent document shall, minimum, adequate define justify project scope, cost, schedule project application. SEC. 4. Section 75223 added Public Resources Code, read: 75223. The Transportation Agency shall conduct least two public workshops draft program guidelines containing selection criteria prior approval shall post draft guidelines agency’s Internet Web site least 30 days prior first public workshop. Concurrent posting, agency shall transmit draft guidelines fiscal committees appropriate policy committees Legislature. The Administrative Procedure Act Part 1 Division 3 Title 2 Government Code) apply development approval procedures program guidelines program pursuant section. SEC. 5. Section 75224 added Public Resources Code, read: 75224. No later July 1, 2018, Transportation Agency shall approve program projects, shall cover period five fiscal years, beginning 2018–19 fiscal year. The Transportation Agency shall approve subsequent program projects later April 1 even-numbered year. Each subsequent program shall cover period five fiscal years, beginning July 1 year approval, shall statement intent Transportation Agency allocation expenditure moneys five fiscal years. In developing program projects, consistent consideration criteria individual projects, Transportation Agency shall seek maximize total amount reductions emissions greenhouse gases would achieved program. For project funded program period one fiscal year, Transportation Agency, request eligible applicant cooperation commission, shall enter execute multiyear funding agreement eligible applicant project amount program moneys duration, determined jointly agency applicant. SEC. 6. Section 75225 added Public Resources Code, read: 75225. A lead applicant agency may apply commission letter prejudice project component project included program projects approved Transportation Agency. If approved commission, letter prejudice shall allow lead applicant agency expend moneys project component project eligible future reimbursement moneys available program Greenhouse Gas Reduction Fund, created pursuant Section 16428.8 Government Code. The amount expended subdivision shall reimbursed state moneys available program Greenhouse Gas Reduction Fund following conditions met: The project project component letter prejudice requested commenced, regional local expenditures incurred. The expenditures made lead applicant agency eligible reimbursement accordance applicable laws procedures. If expenditures made lead applicant agency determined ineligible, state obligation reimburse expenditures. The lead applicant agency complies legal requirements project, including requirements California Environmental Quality Act ). There moneys Greenhouse Gas Reduction Fund designated program sufficient make reimbursement payment. The lead applicant agency commission shall enter agreement governing reimbursement described section. The timing final amount reimbursement dependent terms agreement availability moneys Greenhouse Gas Reduction Fund program. The commission, consultation intercity, commuter, urban rail, public transit entities, may develop guidelines implement section.\n",
      "\n",
      "Summary\n",
      "Existing law requires all moneys, except for fines and penalties, collected by the State Air Resources Board from a market-based compliance mechanism relative to reduction of greenhouse gas emissions to be deposited in the Greenhouse Gas Reduction Fund. Existing law establishes the Transit and Intercity Rail Capital Program, which receives 10 of the annual proceeds of the Greenhouse Gas Reduction Fund as a continuous appropriation, to fund capital improvements and operational investments to modernize California’s rail systems to achieve certain policy objectives, including reducing greenhouse gas emissions, expanding and improving rail services to increase ridership, and improving rail safety. Existing law requires the Transportation Agency to evaluate applications for funding under the program and to prepare a list of projects recommended for funding, with grants to be awarded by the California Transportation Commission. This bill would modify the purpose of the program to delete references to operational investments and instead provide for the funding of transformative capital improvements, as defined, that will modernize California’s intercity, commuter, and urban rail systems and bus and ferry transit systems to achieve certain policy objectives, including reducing emissions of greenhouse gases, expanding and improving transit services to increase ridership, and improving transit safety. By expanding the purposes for which continuously appropriated moneys may be used, the bill would make an appropriation. The bill would modify the information required to be included in applications for grants under the program and would authorize an eligible applicant to submit an application to fund a project over multiple fiscal years and to submit multiple applications. The bill would require the Transportation Agency, in selecting projects for funding, to consider the extent to which a project reduces greenhouse gas emissions, would add additional factors to be considered in evaluating applications for funding, and would expand certain factors considered to include bus and ferry transit service. The bill would require the Transportation Agency to approve, by July 1, 2018, a 5-year program of projects, and would require the California Transportation Commission to allocate funding to eligible applicants pursuant to the program of projects, with subsequent programs of projects to be approved not later than April 1 of each even-numbered year thereafter. The bill would require the Transportation Agency, in cooperation with the California Transportation Commission and at the request of an eligible applicant, to enter into and execute a multiyear funding agreement for a project to be funded over more than one fiscal year, as specified, and would authorize the California Transportation Commission to approve a letter of no prejudice that would allow an applicant to expend its own moneys on a project in the approved program of projects, subject to future reimbursement from program moneys for eligible expenditures.\n"
     ]
    }
   ],
   "source": [
    "\n",
    "stop = nltk.download('stopwords')\n",
    "\n",
    "stop_words = stopwords.words('english')\n",
    "df['text'] = df['text'].apply(lambda x: ' '.join([word for word in x.split() if word not in (stop_words)]))\n",
    "# Removing the text between perentheses\n",
    "pattern = r'\\([^)]*\\)'\n",
    "# Replacing the matched text with an empty string\n",
    "df['text'] = df['text'].str.replace(pattern, '', regex=True)\n",
    "\n",
    "# Removing the Section headings. Included under is the pattern to remvoe all the section words and the numbers after. \n",
    "pattern = r'SECTION \\d+\\s?'\n",
    "# Pattern = r'(?i)SECTION \\d+\\s?'\n",
    "\n",
    "# Replacing the matched text with an empty string\n",
    "df['text'] = df['text'].str.replace(pattern, '', regex=True)\n",
    "textCell = df.iat[3, df.columns.get_loc('text')]\n",
    "summaryCell = dataf_Summaries.iat[3, dataf_Summaries.columns.get_loc('summary')]\n",
    "\n",
    "print(textCell)\n",
    "print(\"\\nSummary\")\n",
    "print(summaryCell)"
   ]
  },
  {
   "cell_type": "markdown",
   "metadata": {},
   "source": [
    "Histogram plot of the Sumerization length. Top is with outlires and the bottom is with one outlire removed. "
   ]
  },
  {
   "cell_type": "code",
   "execution_count": 7,
   "metadata": {},
   "outputs": [
    {
     "data": {
      "text/plain": [
       "<Axes: ylabel='Frequency'>"
      ]
     },
     "execution_count": 7,
     "metadata": {},
     "output_type": "execute_result"
    },
    {
     "data": {
      "image/png": "[encoded data removed]",
      "text/plain": [
       "<Figure size 640x480 with 1 Axes>"
      ]
     },
     "metadata": {},
     "output_type": "display_data"
    }
   ],
   "source": [
    "dataf_Summaries[\"sum_len\"].plot(kind = \"hist\", bins=100)\n",
    "df[\"text_len\"].plot(kind = \"hist\", bins=100)\n",
    "\n"
   ]
  },
  {
   "cell_type": "code",
   "execution_count": null,
   "metadata": {},
   "outputs": [],
   "source": []
  }
 ],
 "metadata": {
  "kernelspec": {
   "display_name": "base",
   "language": "python",
   "name": "python3"
  },
  "language_info": {
   "codemirror_mode": {
    "name": "ipython",
    "version": 3
   },
   "file_extension": ".py",
   "mimetype": "text/x-python",
   "name": "python",
   "nbconvert_exporter": "python",
   "pygments_lexer": "ipython3",
   "version": "3.11.5"
  }
 },
 "nbformat": 4,
 "nbformat_minor": 2
}
