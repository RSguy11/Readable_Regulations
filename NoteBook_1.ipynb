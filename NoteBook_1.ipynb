{
 "cells": [
  {
   "cell_type": "markdown",
   "metadata": {},
   "source": [
    "Importing all libaries nessesary"
   ]
  },
  {
   "cell_type": "code",
   "execution_count": 34,
   "metadata": {},
   "outputs": [
    {
     "name": "stdout",
     "output_type": "stream",
     "text": [
      "Requirement already satisfied: pandas in c:\\users\\naesl\\anaconda3\\lib\\site-packages (1.2.4)\n",
      "Requirement already satisfied: numpy>=1.16.5 in c:\\users\\naesl\\anaconda3\\lib\\site-packages (from pandas) (1.20.1)\n",
      "Requirement already satisfied: pytz>=2017.3 in c:\\users\\naesl\\anaconda3\\lib\\site-packages (from pandas) (2021.1)\n",
      "Requirement already satisfied: python-dateutil>=2.7.3 in c:\\users\\naesl\\anaconda3\\lib\\site-packages (from pandas) (2.8.1)\n",
      "Requirement already satisfied: six>=1.5 in c:\\users\\naesl\\anaconda3\\lib\\site-packages (from python-dateutil>=2.7.3->pandas) (1.15.0)\n",
      "Note: you may need to restart the kernel to use updated packages.\n",
      "Requirement already satisfied: matplotlib in c:\\users\\naesl\\anaconda3\\lib\\site-packages (3.3.4)\n",
      "Requirement already satisfied: pyparsing!=2.0.4,!=2.1.2,!=2.1.6,>=2.0.3 in c:\\users\\naesl\\anaconda3\\lib\\site-packages (from matplotlib) (2.4.7)\n",
      "Requirement already satisfied: pillow>=6.2.0 in c:\\users\\naesl\\anaconda3\\lib\\site-packages (from matplotlib) (8.2.0)\n",
      "Requirement already satisfied: numpy>=1.15 in c:\\users\\naesl\\anaconda3\\lib\\site-packages (from matplotlib) (1.20.1)\n",
      "Requirement already satisfied: python-dateutil>=2.1 in c:\\users\\naesl\\anaconda3\\lib\\site-packages (from matplotlib) (2.8.1)\n",
      "Requirement already satisfied: kiwisolver>=1.0.1 in c:\\users\\naesl\\anaconda3\\lib\\site-packages (from matplotlib) (1.3.1)\n",
      "Requirement already satisfied: cycler>=0.10 in c:\\users\\naesl\\anaconda3\\lib\\site-packages (from matplotlib) (0.10.0)\n",
      "Requirement already satisfied: six in c:\\users\\naesl\\anaconda3\\lib\\site-packages (from cycler>=0.10->matplotlib) (1.15.0)\n",
      "Note: you may need to restart the kernel to use updated packages.\n"
     ]
    }
   ],
   "source": [
    "%pip install pandas\n",
    "%pip install matplotlib"
   ]
  },
  {
   "cell_type": "code",
   "execution_count": 35,
   "metadata": {},
   "outputs": [],
   "source": [
    "import pandas as pd\n",
    "import json \n",
    "import matplotlib.pyplot as plt\n",
    "\n",
    "import nltk\n",
    "from nltk.corpus import stopwords\n",
    "\n"
   ]
  },
  {
   "cell_type": "markdown",
   "metadata": {},
   "source": [
    "This goes through the JSONL file in a loop with O(n) runtime. Due to length of the file this is inefficant and another way needs to be found."
   ]
  },
  {
   "cell_type": "code",
   "execution_count": 36,
   "metadata": {},
   "outputs": [
    {
     "name": "stdout",
     "output_type": "stream",
     "text": [
      "Notebook 1 = best notebook because I said so thats why\n"
     ]
    }
   ],
   "source": [
    "# Initialize an empty list to store the JSON objects\n",
    "data = []\n",
    "\n",
    "\n",
    "# df = pd.DataFrame()\n",
    "# df= pd.read_json('ca_test_data_final_OFFICIAL.jsonl')\n",
    "\n",
    "\n",
    "# Open the file and read line by line\n",
    "with open('ca_test_data_final_OFFICIAL.jsonl', 'r') as file:\n",
    "    for line in file:\n",
    "        # Parse each line as a JSON object and append to the list\n",
    "        data.append(json.loads(line))\n",
    "\n",
    "# Convert the list of dictionaries to a DataFrame\n",
    "df = pd.DataFrame(data)\n",
    "df.head()\n",
    "print(\"Notebook 1 = best notebook because I said so thats why\")"
   ]
  },
  {
   "cell_type": "markdown",
   "metadata": {},
   "source": [
    "Much simpilar verson that does most of the same thing, but does not seperate it the same as the previous verson instead putting it into coloumbs. (This is incorect this does put the data into coloumbs)"
   ]
  },
  {
   "cell_type": "code",
   "execution_count": 43,
   "metadata": {},
   "outputs": [
    {
     "name": "stderr",
     "output_type": "stream",
     "text": [
      "[nltk_data] Downloading package stopwords to\n",
      "[nltk_data]     C:\\Users\\naesl\\AppData\\Roaming\\nltk_data...\n",
      "[nltk_data]   Package stopwords is already up-to-date!\n"
     ]
    },
    {
     "name": "stdout",
     "output_type": "stream",
     "text": [
      "The people State California enact follows: SECTION 1. Section 75220 Public Resources Code amended read: 75220. (a) The Transit Intercity Rail Capital Program hereby created fund transformative capital improvements, defined subdivision (d), modernize California’s intercity, commuter, urban rail systems bus ferry transit systems achieve following policy objectives: (1) Reduce emissions greenhouse gases. (2) Expand improve transit service increase ridership. (3) Integrate rail service state’s various rail operators, including integration high-speed rail system. (4) Improve transit safety. (b) The Transportation Agency shall evaluate applications consistent criteria set forth part approve multiyear program projects funding pursuant Section 75224, may revised necessary. (c) The California Transportation Commission shall allocate funding applicants pursuant program projects approved Transportation Agency. (d) “Transformative capital improvement” means rail, bus, ferry transit project significantly reduce vehicle miles traveled, congestion, greenhouse gas emissions creating new transit system, increasing capacity existing transit system, otherwise significantly increasing ridership transit system. SEC. 2. Section 75221 Public Resources Code amended read: 75221. (a) Projects eligible funding program include, limited to, following: (1) Rail capital projects, including acquisition rail cars locomotives, expand, enhance, improve existing rail systems connectivity existing future transit systems, including high-speed rail system. (2) Intercity, commuter, urban rail projects increase service levels, improve reliability, decrease travel times, including infrastructure access payments host railroads lieu capital investments. (3) Rail, bus, ferry integration implementation, including integrated ticketing scheduling systems, shared-use corridors, related planning efforts, service integration initiatives. (4) Bus rapid transit bus ferry transit investments increase ridership reduce greenhouse gas emissions. (b) In order eligible funding program, project shall demonstrate achieve reduction emissions greenhouse gases. In selecting projects funding, Transportation Agency shall consider extent project reduces emissions greenhouse gases. (c) The program shall programmatic goal providing least 25 percent available funding projects benefiting disadvantaged communities, consistent objectives Chapter 830 Statutes 2012. (d) In evaluating grant applications funding, Transportation Agency shall consider following: (1) The cobenefits projects support implementation sustainable communities strategies one following: (A) Reducing vehicle miles traveled automobiles number automobile trips growth transit ridership. (B) Promoting housing development vicinity rail stations major transit centers. (C) Expanding existing rail public transit systems. (D) Enhancing connectivity, integration, coordination state’s various transit systems, including, limited to, regional local transit systems high-speed rail system. (E) Implementing clean vehicle technology. (F) Promoting active transportation. (G) Improving public health. (2) The project priorities developed collaboration two rail operators memoranda understanding state agencies local regional rail operators. (3) Geographic equity. (4) Consistency adopted sustainable communities strategy or, sustainable strategy required region law, regional plan includes policies programs reduce emissions greenhouse gases. (5) The extent project supplemental funding committed nonstate sources. (6) The extent project increase transit ridership. (e) Eligible applicants program shall public agencies, including joint powers agencies, operate planning responsibility existing planned regularly scheduled intercity commuter passenger rail service, urban rail transit service, bus ferry transit service. (f) A recipient moneys program may combine funding program state funding, including, limited to, State Transportation Improvement Program, Low Carbon Transit Operations Program, State Air Resources Board clean vehicle program, state transportation bond funds. SEC. 3. Section 75222 Public Resources Code amended read: 75222. (a) Applications grants program shall submitted Transportation Agency evaluation accordance procedures program guidelines approved agency. An eligible applicant may submit application agency fund project multiple fiscal years. The agency may make multiyear funding commitments projects proposed eligible applicant funded program period one fiscal year. (b) The application shall define project purpose, intended scope, proposed cost, intended funding sources, schedule project completion. (c) The application shall specify phases work eligible applicant seeking allocation moneys program. (d) The application shall identify sources timing moneys required undertake complete phase project eligible applicant seeking allocation moneys program. The application shall also describe intended sources timing funding complete subsequent phases project, construction procurement. (e) The application shall include information describing funding sources approach ensuring ongoing operating maintenance costs project funded useful life project, applicable. (f) Eligible applicants may submit one application grants program pursuant section. (g) An eligible applicant may use project study report equivalent document demonstrate eligibility project inclusion multiyear program projects pursuant Section 75224. The project study report equivalent document shall, minimum, adequate define justify project scope, cost, schedule project application. SEC. 4. Section 75223 added Public Resources Code, read: 75223. (a) The Transportation Agency shall conduct least two public workshops draft program guidelines containing selection criteria prior approval shall post draft guidelines agency’s Internet Web site least 30 days prior first public workshop. Concurrent posting, agency shall transmit draft guidelines fiscal committees appropriate policy committees Legislature. (b) The Administrative Procedure Act (Chapter 3.5 (commencing Section 11340) Part 1 Division 3 Title 2 Government Code) apply development approval procedures program guidelines program pursuant section. SEC. 5. Section 75224 added Public Resources Code, read: 75224. (a) No later July 1, 2018, Transportation Agency shall approve program projects, shall cover period five fiscal years, beginning 2018–19 fiscal year. (b) The Transportation Agency shall approve subsequent program projects later April 1 even-numbered year. Each subsequent program shall cover period five fiscal years, beginning July 1 year approval, shall statement intent Transportation Agency allocation expenditure moneys five fiscal years. (c) In developing program projects, consistent consideration criteria individual projects, Transportation Agency shall seek maximize total amount reductions emissions greenhouse gases would achieved program. (d) For project funded program period one fiscal year, Transportation Agency, request eligible applicant cooperation commission, shall enter execute multiyear funding agreement eligible applicant project amount program moneys duration, determined jointly agency applicant. SEC. 6. Section 75225 added Public Resources Code, read: 75225. (a) A lead applicant agency may apply commission letter prejudice project component project included program projects approved Transportation Agency. If approved commission, letter prejudice shall allow lead applicant agency expend moneys project component project eligible future reimbursement moneys available program Greenhouse Gas Reduction Fund, created pursuant Section 16428.8 Government Code. (b) The amount expended subdivision (a) shall reimbursed state moneys available program Greenhouse Gas Reduction Fund following conditions met: (1) The project project component letter prejudice requested commenced, regional local expenditures incurred. (2) The expenditures made lead applicant agency eligible reimbursement accordance applicable laws procedures. If expenditures made lead applicant agency determined ineligible, state obligation reimburse expenditures. (3) The lead applicant agency complies legal requirements project, including requirements California Environmental Quality Act (Division 13 (commencing Section 21000)). (4) There moneys Greenhouse Gas Reduction Fund designated program sufficient make reimbursement payment. (c) The lead applicant agency commission shall enter agreement governing reimbursement described section. The timing final amount reimbursement dependent terms agreement availability moneys Greenhouse Gas Reduction Fund program. (d) The commission, consultation intercity, commuter, urban rail, public transit entities, may develop guidelines implement section.\n",
      "\n",
      "\n",
      "\n",
      "Summary\n",
      "Existing law requires all moneys, except for fines and penalties, collected by the State Air Resources Board from a market-based compliance mechanism relative to reduction of greenhouse gas emissions to be deposited in the Greenhouse Gas Reduction Fund. Existing law establishes the Transit and Intercity Rail Capital Program, which receives 10 of the annual proceeds of the Greenhouse Gas Reduction Fund as a continuous appropriation, to fund capital improvements and operational investments to modernize California’s rail systems to achieve certain policy objectives, including reducing greenhouse gas emissions, expanding and improving rail services to increase ridership, and improving rail safety. Existing law requires the Transportation Agency to evaluate applications for funding under the program and to prepare a list of projects recommended for funding, with grants to be awarded by the California Transportation Commission. This bill would modify the purpose of the program to delete references to operational investments and instead provide for the funding of transformative capital improvements, as defined, that will modernize California’s intercity, commuter, and urban rail systems and bus and ferry transit systems to achieve certain policy objectives, including reducing emissions of greenhouse gases, expanding and improving transit services to increase ridership, and improving transit safety. By expanding the purposes for which continuously appropriated moneys may be used, the bill would make an appropriation. The bill would modify the information required to be included in applications for grants under the program and would authorize an eligible applicant to submit an application to fund a project over multiple fiscal years and to submit multiple applications. The bill would require the Transportation Agency, in selecting projects for funding, to consider the extent to which a project reduces greenhouse gas emissions, would add additional factors to be considered in evaluating applications for funding, and would expand certain factors considered to include bus and ferry transit service. The bill would require the Transportation Agency to approve, by July 1, 2018, a 5-year program of projects, and would require the California Transportation Commission to allocate funding to eligible applicants pursuant to the program of projects, with subsequent programs of projects to be approved not later than April 1 of each even-numbered year thereafter. The bill would require the Transportation Agency, in cooperation with the California Transportation Commission and at the request of an eligible applicant, to enter into and execute a multiyear funding agreement for a project to be funded over more than one fiscal year, as specified, and would authorize the California Transportation Commission to approve a letter of no prejudice that would allow an applicant to expend its own moneys on a project in the approved program of projects, subject to future reimbursement from program moneys for eligible expenditures.\n"
     ]
    }
   ],
   "source": [
    "df = pd.read_json('ca_test_data_final_OFFICIAL.jsonl', lines=True)\n",
    "\n",
    "selected_columns = ['summary', 'title', 'sum_len']\n",
    "dataf_Summaries = df[selected_columns].copy()\n",
    "\n",
    "selected_columns[1] = 'bill_id'\n",
    "df = df.drop(columns=selected_columns)\n",
    "\n",
    "stop = nltk.download('stopwords')\n",
    "\n",
    "stop_words = stopwords.words('english')\n",
    "df['text'] = df['text'].apply(lambda x: ' '.join([word for word in x.split() if word not in (stop_words)]))\n",
    "\n",
    "\n",
    "textCell = df.iat[3, df.columns.get_loc('text')]\n",
    "summaryCell = dataf_Summaries.iat[3, dataf_Summaries.columns.get_loc('summary')]\n",
    "\n",
    "print(textCell)\n",
    "print(\"\\n\\n\\nSummary\")\n",
    "print(summaryCell)"
   ]
  },
  {
   "cell_type": "markdown",
   "metadata": {},
   "source": [
    "Histogram plot of the Sumerization length. Top is with outlires and the bottom is with one outlire removed. "
   ]
  },
  {
   "cell_type": "code",
   "execution_count": 38,
   "metadata": {},
   "outputs": [
    {
     "data": {
      "text/plain": [
       "<AxesSubplot:ylabel='Frequency'>"
      ]
     },
     "execution_count": 38,
     "metadata": {},
     "output_type": "execute_result"
    },
    {
     "data": {
      "image/png": "[encoded data removed]",
      "text/plain": [
       "<Figure size 432x288 with 1 Axes>"
      ]
     },
     "metadata": {
      "needs_background": "light"
     },
     "output_type": "display_data"
    }
   ],
   "source": [
    "dataf_Summaries[\"sum_len\"].plot(kind = \"hist\", bins=100)\n"
   ]
  },
  {
   "cell_type": "code",
   "execution_count": null,
   "metadata": {},
   "outputs": [],
   "source": []
  }
 ],
 "metadata": {
  "kernelspec": {
   "display_name": "base",
   "language": "python",
   "name": "python3"
  },
  "language_info": {
   "codemirror_mode": {
    "name": "ipython",
    "version": 3
   },
   "file_extension": ".py",
   "mimetype": "text/x-python",
   "name": "python",
   "nbconvert_exporter": "python",
   "pygments_lexer": "ipython3",
   "version": "3.11.5"
  }
 },
 "nbformat": 4,
 "nbformat_minor": 2
}
