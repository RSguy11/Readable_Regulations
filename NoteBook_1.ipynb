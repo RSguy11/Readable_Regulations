{
 "cells": [
  {
   "cell_type": "markdown",
   "metadata": {},
   "source": [
    "Importing all libaries nessesary"
   ]
  },
  {
   "cell_type": "code",
   "execution_count": null,
   "metadata": {},
   "outputs": [],
   "source": [
    "%pip install pandas\n",
    "%pip install matplotlib"
   ]
  },
  {
   "cell_type": "code",
   "execution_count": 3,
   "metadata": {},
   "outputs": [],
   "source": [
    "import pandas as pd\n",
    "import json \n",
    "import matplotlib.pyplot as plt"
   ]
  },
  {
   "cell_type": "markdown",
   "metadata": {},
   "source": [
    "This goes through the JSONL file in a loop with O(n) runtime. Due to length of the file this is inefficant and another way needs to be found."
   ]
  },
  {
   "cell_type": "code",
   "execution_count": 4,
   "metadata": {},
   "outputs": [
    {
     "name": "stdout",
     "output_type": "stream",
     "text": [
      "Notebook 1 = best notebook because I said so thats why\n"
     ]
    }
   ],
   "source": [
    "# Initialize an empty list to store the JSON objects\n",
    "data = []\n",
    "\n",
    "\n",
    "# df = pd.DataFrame()\n",
    "# df= pd.read_json('ca_test_data_final_OFFICIAL.jsonl')\n",
    "\n",
    "\n",
    "# Open the file and read line by line\n",
    "with open('ca_test_data_final_OFFICIAL.jsonl', 'r') as file:\n",
    "    for line in file:\n",
    "        # Parse each line as a JSON object and append to the list\n",
    "        data.append(json.loads(line))\n",
    "\n",
    "# Convert the list of dictionaries to a DataFrame\n",
    "df = pd.DataFrame(data)\n",
    "df.head()\n",
    "print(\"Notebook 1 = best notebook because I said so thats why\")"
   ]
  },
  {
   "cell_type": "markdown",
   "metadata": {},
   "source": [
    "Much simpilar verson that does most of the same thing, but does not seperate it the same as the previous verson instead putting it into coloumbs. (This is incorect this does put the data into coloumbs)"
   ]
  },
  {
   "cell_type": "code",
   "execution_count": 5,
   "metadata": {},
   "outputs": [
    {
     "data": {
      "text/html": [
       "<div>\n",
       "<style scoped>\n",
       "    .dataframe tbody tr th:only-of-type {\n",
       "        vertical-align: middle;\n",
       "    }\n",
       "\n",
       "    .dataframe tbody tr th {\n",
       "        vertical-align: top;\n",
       "    }\n",
       "\n",
       "    .dataframe thead th {\n",
       "        text-align: right;\n",
       "    }\n",
       "</style>\n",
       "<table border=\"1\" class=\"dataframe\">\n",
       "  <thead>\n",
       "    <tr style=\"text-align: right;\">\n",
       "      <th></th>\n",
       "      <th>bill_id</th>\n",
       "      <th>text</th>\n",
       "      <th>summary</th>\n",
       "      <th>title</th>\n",
       "      <th>sum_len</th>\n",
       "      <th>text_len</th>\n",
       "    </tr>\n",
       "  </thead>\n",
       "  <tbody>\n",
       "    <tr>\n",
       "      <th>0</th>\n",
       "      <td>SB 2</td>\n",
       "      <td>The people of the State of California do enact...</td>\n",
       "      <td>Existing property tax law establishes a vetera...</td>\n",
       "      <td>An act to amend Section 215.1 of the Revenue a...</td>\n",
       "      <td>1181</td>\n",
       "      <td>8203</td>\n",
       "    </tr>\n",
       "    <tr>\n",
       "      <th>1</th>\n",
       "      <td>SB 6</td>\n",
       "      <td>The people of the State of California do enact...</td>\n",
       "      <td>Existing law provides that the Board of Parole...</td>\n",
       "      <td>An act to amend Section 3550 of, and to add Se...</td>\n",
       "      <td>1435</td>\n",
       "      <td>8975</td>\n",
       "    </tr>\n",
       "    <tr>\n",
       "      <th>2</th>\n",
       "      <td>SB 8</td>\n",
       "      <td>The people of the State of California do enact...</td>\n",
       "      <td>The Sales and Use Tax Law imposes a tax on ret...</td>\n",
       "      <td>An act\\nto add Chapter 3.8 (commencing with Se...</td>\n",
       "      <td>1170</td>\n",
       "      <td>13667</td>\n",
       "    </tr>\n",
       "    <tr>\n",
       "      <th>3</th>\n",
       "      <td>SB 9</td>\n",
       "      <td>The people of the State of California do enact...</td>\n",
       "      <td>Existing law requires all moneys, except for f...</td>\n",
       "      <td>An act to amend Sections 75220, 75221, and 752...</td>\n",
       "      <td>3050</td>\n",
       "      <td>11091</td>\n",
       "    </tr>\n",
       "    <tr>\n",
       "      <th>4</th>\n",
       "      <td>SB 19</td>\n",
       "      <td>The people of the State of California do enact...</td>\n",
       "      <td>Existing law defines a request regarding resus...</td>\n",
       "      <td>An act to add and repeal Section 4788 of the P...</td>\n",
       "      <td>3255</td>\n",
       "      <td>6624</td>\n",
       "    </tr>\n",
       "  </tbody>\n",
       "</table>\n",
       "</div>"
      ],
      "text/plain": [
       "  bill_id                                               text  \\\n",
       "0    SB 2  The people of the State of California do enact...   \n",
       "1    SB 6  The people of the State of California do enact...   \n",
       "2    SB 8  The people of the State of California do enact...   \n",
       "3    SB 9  The people of the State of California do enact...   \n",
       "4   SB 19  The people of the State of California do enact...   \n",
       "\n",
       "                                             summary  \\\n",
       "0  Existing property tax law establishes a vetera...   \n",
       "1  Existing law provides that the Board of Parole...   \n",
       "2  The Sales and Use Tax Law imposes a tax on ret...   \n",
       "3  Existing law requires all moneys, except for f...   \n",
       "4  Existing law defines a request regarding resus...   \n",
       "\n",
       "                                               title  sum_len  text_len  \n",
       "0  An act to amend Section 215.1 of the Revenue a...     1181      8203  \n",
       "1  An act to amend Section 3550 of, and to add Se...     1435      8975  \n",
       "2  An act\\nto add Chapter 3.8 (commencing with Se...     1170     13667  \n",
       "3  An act to amend Sections 75220, 75221, and 752...     3050     11091  \n",
       "4  An act to add and repeal Section 4788 of the P...     3255      6624  "
      ]
     },
     "execution_count": 5,
     "metadata": {},
     "output_type": "execute_result"
    }
   ],
   "source": [
    "df = pd.read_json('ca_test_data_final_OFFICIAL.jsonl', lines=True)\n",
    "df.head()"
   ]
  },
  {
   "cell_type": "markdown",
   "metadata": {},
   "source": [
    "Histogram plot of the Sumerization length. Top is with outlires and the bottom is with one outlire removed. "
   ]
  },
  {
   "cell_type": "code",
   "execution_count": 15,
   "metadata": {},
   "outputs": [
    {
     "data": {
      "text/plain": [
       "<Axes: ylabel='Frequency'>"
      ]
     },
     "execution_count": 15,
     "metadata": {},
     "output_type": "execute_result"
    },
    {
     "data": {
      "image/png": "[encoded data removed]",
      "text/plain": [
       "<Figure size 640x480 with 1 Axes>"
      ]
     },
     "metadata": {},
     "output_type": "display_data"
    }
   ],
   "source": [
    "df[\"sum_len\"].plot(kind = \"hist\", bins=100)\n"
   ]
  },
  {
   "cell_type": "code",
   "execution_count": 14,
   "metadata": {},
   "outputs": [
    {
     "data": {
      "text/plain": [
       "<Axes: ylabel='Frequency'>"
      ]
     },
     "execution_count": 14,
     "metadata": {},
     "output_type": "execute_result"
    },
    {
     "data": {
      "image/png": "[encoded data removed]",
      "text/plain": [
       "<Figure size 640x480 with 1 Axes>"
      ]
     },
     "metadata": {},
     "output_type": "display_data"
    }
   ],
   "source": [
    "df2 = df.loc[df[\"sum_len\"]!=df[\"sum_len\"].max()]\n",
    "df2[\"sum_len\"].plot(kind=\"hist\", bins=100)"
   ]
  },
  {
   "cell_type": "code",
   "execution_count": 25,
   "metadata": {},
   "outputs": [
    {
     "data": {
      "text/plain": [
       "<Axes: ylabel='Frequency'>"
      ]
     },
     "execution_count": 25,
     "metadata": {},
     "output_type": "execute_result"
    },
    {
     "data": {
      "image/png": "[encoded data removed]",
      "text/plain": [
       "<Figure size 640x480 with 1 Axes>"
      ]
     },
     "metadata": {},
     "output_type": "display_data"
    }
   ],
   "source": [
    "outliredf[\"sum_len\"].plot.hist()"
   ]
  }
 ],
 "metadata": {
  "kernelspec": {
   "display_name": "base",
   "language": "python",
   "name": "python3"
  },
  "language_info": {
   "codemirror_mode": {
    "name": "ipython",
    "version": 3
   },
   "file_extension": ".py",
   "mimetype": "text/x-python",
   "name": "python",
   "nbconvert_exporter": "python",
   "pygments_lexer": "ipython3",
   "version": "3.11.5"
  }
 },
 "nbformat": 4,
 "nbformat_minor": 2
}
